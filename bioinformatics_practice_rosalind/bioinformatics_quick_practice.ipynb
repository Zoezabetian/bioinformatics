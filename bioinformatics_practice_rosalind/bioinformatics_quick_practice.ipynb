{
 "cells": [
  {
   "cell_type": "markdown",
   "metadata": {},
   "source": [
    "# Bioinformatics quick practice problems (from Rosalind)\n",
    "https://rosalind.info/problems/list-view/"
   ]
  },
  {
   "cell_type": "markdown",
   "metadata": {},
   "source": [
    "### Problem: Counting DNA Nucleotides\n",
    "\n",
    "A DNA string is a sequence of symbols chosen from the alphabet consisting of 'A' (adenine), 'C' (cytosine), 'G' (guanine), and 'T' (thymine). The length of a DNA string is the number of symbols it contains.\n",
    "\n",
    "For example, the DNA string `\"ATGCTTCAGAAAGGTCTTACG\"` is a string of length 21.\n",
    "\n",
    "### Input:\n",
    "- A DNA string `s` with a maximum length of 1,000 nucleotides (nt).\n",
    "\n",
    "### Output:\n",
    "- Four integers, each representing the count of the nucleotides 'A', 'C', 'G', and 'T' in the DNA string `s`, respectively. The counts should be separated by spaces."
   ]
  },
  {
   "cell_type": "code",
   "execution_count": 1,
   "metadata": {},
   "outputs": [
    {
     "name": "stdout",
     "output_type": "stream",
     "text": [
      "201 212 245 231\n"
     ]
    }
   ],
   "source": [
    "def counting_nucs(file_path):\n",
    "    with open(file_path, \"r\") as file:\n",
    "        A = 0\n",
    "        C = 0\n",
    "        G = 0\n",
    "        T = 0\n",
    "        \n",
    "        while True:\n",
    "            char = file.read(1)\n",
    "            if not char:\n",
    "                break\n",
    "            if char == \"A\":\n",
    "                A += 1\n",
    "            elif char == \"C\":\n",
    "                C += 1\n",
    "            elif char == \"G\":\n",
    "                G += 1\n",
    "            elif char == \"T\":\n",
    "                T += 1\n",
    "    return A,C,G,T\n",
    "\n",
    "file_path = \"rosalind_data/rosalind_dna.txt\"\n",
    "result = counting_nucs(file_path)\n",
    "print(*result) #  unpacking operator * unpacks the elements of the tuple so that they are printed as separate arguments \n"
   ]
  },
  {
   "cell_type": "markdown",
   "metadata": {},
   "source": [
    "### Problem: Transcribing DNA into RNA\n",
    "\n",
    "An RNA string is similar to a DNA string but uses 'U' (uracil) instead of 'T' (thymine). The process of transcribing DNA to RNA involves replacing all occurrences of 'T' with 'U'.\n",
    "\n",
    "### Input:\n",
    "- A DNA string `t` with a maximum length of 1,000 nucleotides (nt).\n",
    "\n",
    "### Output:\n",
    "- The RNA string `u`, which is formed by replacing all 'T' characters in `t` with 'U'."
   ]
  },
  {
   "cell_type": "code",
   "execution_count": 28,
   "metadata": {},
   "outputs": [
    {
     "name": "stdout",
     "output_type": "stream",
     "text": [
      "AUGCCAGGCACGUAGAAGUAAUGUUAGGAUAGGCUACAAUAGAGAUCGCACUCGAUACACCGCCACGAAAUUGAUGCAGCAACCAAGACUCUGGUAUAAGUGUGAGGCGGGAUUUACCUUGGAUGCCGUUGGCACAGCUAUGGUUUGCCUACACAGGUUUGCAGGGUCGUGGACUACGCUUCAAAACUAGGUUUAUGGAUCCGAACCUUUGUAUGAAAAUCGCAUAUUCUUGGUACUCGUCAGCAAGUGGGAGGAUCCGUUACGAUUCCUCCAUGUAAAUGGCGGGCAGCCGGUCGCAAUUCAAAAUUAAUCAGUCGGUACGCGAUCGGUGUUAAAGCUGCUUGUAAGUCGCAUCAUUUCCUCUUCGAACCGAAUAAUUUCCAAAAUUUGUUUUCGGGUACUGUCCUGACUCAGAUUCUCAGUAAUGGCCUAAAUUCUAUUUCUCCGUUCAACAUGGUACAUCCUCCCUUUAACAGCCUUGCAAUUUACACUGUCCGUGCCACACAUAGCCUCUAUCGGGGGGGAAUACAUUUGGAACGAUGGUUACCUGGUGUUGAUAUACAGCAAAAUUCAGGCCAAAGCCAUCUUCGAACCCGUAUACGCUAUAAAAAAGUUCCCAAGUCGUGUCUCAUGAACGAAAUACUGCAACAGUAUAAGAGGCUUGGAGGAACUGGACUUACUCAGUCACAGCUCGUAGCCCUAUUGGAUGCCUGCUGUGCUACACUUCGACUAGGCAGAAAUAGCGCGCUGUAGAGAUAAUAGGCAACGUAGAACAGACUUCGACAUCAUGAGGAUGCAUCACUUGGAGCACUGGUGACGACUCGUUAUGGGAAAGCUUUGUGCGCCCCAGUGCACCUGACGUCUCUAUCCAGCCUCCGGUUCUCCUAAGUCCCGAGGCUAUGAUUCUUGGAUGAGAAUCUACGAUACCAUCACAUGUUUUAAUGUGUGGGUGCGGGUUUCGUCACUA\n",
      "\n"
     ]
    }
   ],
   "source": [
    "def DNA_to_RNA(file_path):\n",
    "    with open(file_path, \"r\") as file:\n",
    "        RNA = file.read().replace('T', 'U')\n",
    "    return RNA\n",
    "\n",
    "file_path = \"rosalind_data/rosalind_rna.txt\"\n",
    "result = DNA_to_RNA(file_path)\n",
    "print(result)"
   ]
  },
  {
   "cell_type": "markdown",
   "metadata": {},
   "source": [
    "### Problem: Complementing a Strand of DNA\n",
    "\n",
    "In DNA, the symbols 'A' (adenine) and 'T' (thymine) are complements of each other, as are 'C' (cytosine) and 'G' (guanine). To find the reverse complement of a DNA string, you first reverse the string and then replace each nucleotide with its complement.\n",
    "\n",
    "For example, the reverse complement of the DNA string `\"GTCA\"` is `\"TGAC\"`.\n",
    "\n",
    "### Input:\n",
    "- A DNA string `s` with a maximum length of 1,000 base pairs (bp).\n",
    "\n",
    "### Output:\n",
    "- The reverse complement `sc` of the DNA string `s`."
   ]
  },
  {
   "cell_type": "code",
   "execution_count": 33,
   "metadata": {},
   "outputs": [
    {
     "name": "stdout",
     "output_type": "stream",
     "text": [
      "TAATAACCACATGTCGGTACCTATATTGAGCGCGGCACTCTGGGGCTCCGCAAGTATGTGCACATAGACAATTTGTATAATCGGTGCACACTAAGAAACCTGAGTCGACACTTTCAGCCCGCCATTCGAACAAGTTCAAAGCGAAGACTAAAGCCCTCACGCTAGGTTTTAGAGGACGTTTCGTAGATCCCTCGCGCAGGACAACACCACCATTAAGCCCACCCCACGCTTTTTCCCAGCGACGATTCACTCGCGTTGAGTATGCTCGACAGTACCCAACAGAAGCTCGCCCGGCGGGATAGGACGTTTTACGGCCTTTATGCAAGCATACTGACAACCTGATAGGATCAACTTGCGCAAACTACCCCAGAGACTCTGGTTTCGGCAGGTACTTCGCGGAGGGATGTAACCGCATATAGGGGTACCTAGGGGAAGAAGTAGGATTAACCCGGGGTGCTCTGCGGTTACGCTATCCAATCTATGGACGCGATTTACCCCGCTCGCTACTTATTAGAGACATGCTATTGAGCCAAATGCTGCGGTGAGGCCACACAAAACTAGGTGGAGCGTACGGCGTAGACAGTCCGCAATACTTCTTGGCGAGCTCTAGCAAATCACAGGAGCCAATGCTCTGGGTTGACAGTAACCTGGAGGTACAAGATAACCGTGCTATTGTCTAGTGGACCACTAATTTCCCGCTTAAATTAGCATATACGTCCTTCTACCGAATGTACAATTACAGTATAAGACATCCTACCTGCACGGTCAAAGGGTCTTCTGAACTAACGGTACCGGTCGCGTAGGGAAAGCTCTGTTAGTTTCGTGATGTCACGCTGACATATCGCGTCGAGCCATTGACATTTGCGCAGACCGATTACGGTCGCAATGCCCTTCTGCAATTGTAATAATATTCACATCTTTCACGTTTGGCCAAACAATGTCTTTGACGTA\n"
     ]
    }
   ],
   "source": [
    "def reverse_complement(file_path):\n",
    "    with open(file_path, \"r\") as file:\n",
    "        complement = \"\"\n",
    "        while True:\n",
    "            char = file.read(1)\n",
    "            if not char:\n",
    "                break\n",
    "            if char == \"A\":\n",
    "                complement += \"T\"\n",
    "            elif char == \"C\":\n",
    "                complement += \"G\"\n",
    "            elif char == \"G\":\n",
    "                complement += \"C\"\n",
    "            elif char == \"T\":\n",
    "                complement += \"A\"\n",
    "        reverse_complement = complement[::-1]\n",
    "        \n",
    "    return reverse_complement\n",
    "\n",
    "file_path = \"rosalind_data/rosalind_revc.txt\"\n",
    "result = reverse_complement(file_path)\n",
    "print(result)\n"
   ]
  },
  {
   "cell_type": "markdown",
   "metadata": {},
   "source": [
    "### Problem: Rabbits and Recurrence Relations - Fibonacci Sequence\n",
    "\n",
    "The rabbit problem is a variation of the Fibonacci sequence where you calculate the number of rabbit pairs after a given number of months, with specific reproduction rules. Each pair of rabbits produces `k` pairs of offspring every month, and these offspring take a month to reach reproductive age.\n",
    "\n",
    "### Input:\n",
    "- Two positive integers:\n",
    "  - `n`: the number of months (where `1 ≤ n ≤ 40`)\n",
    "  - `k`: the number of rabbit pairs produced by each pair of rabbits per month (where `1 ≤ k ≤ 5`)\n",
    "\n",
    "### Output:\n",
    "- The total number of rabbit pairs after `n` months, considering the reproduction rules."
   ]
  },
  {
   "cell_type": "code",
   "execution_count": 44,
   "metadata": {},
   "outputs": [
    {
     "name": "stdout",
     "output_type": "stream",
     "text": [
      "357913941\n"
     ]
    }
   ],
   "source": [
    "def rabbit_pairs(file_path):\n",
    "    with open(file_path, \"r\") as file:\n",
    "        numbers = file.read().split()\n",
    "        n = int(numbers[0])\n",
    "        k = int(numbers[1])\n",
    "        if n == 1 or n == 2:\n",
    "            return 1\n",
    "\n",
    "        # Initialize base cases\n",
    "        prev2 = 1  # F(n-2)\n",
    "        prev1 = 1  # F(n-1)\n",
    "        \n",
    "        # Calculate F(n) using the recurrence relation\n",
    "        for i in range(3, n + 1):\n",
    "            current = prev1 + k * prev2\n",
    "            prev2 = prev1\n",
    "            prev1 = current\n",
    "\n",
    "    return prev1\n",
    "\n",
    "file_path = \"rosalind_data/rosalind_fib.txt\"\n",
    "result = rabbit_pairs(file_path)\n",
    "print(result)"
   ]
  },
  {
   "cell_type": "markdown",
   "metadata": {},
   "source": [
    "### Problem: Computing GC Content\n",
    "\n",
    "The GC-content of a DNA string is the percentage of nucleotides in the string that are either 'C' (cytosine) or 'G' (guanine). For example, the GC-content of the DNA string `\"AGCTATAG\"` is 37.5%, which represents the proportion of 'C' and 'G' nucleotides in the string. The reverse complement of a DNA string has the same GC-content.\n",
    "\n",
    "DNA strings are often labeled in databases using the FASTA format. In FASTA format, each string starts with a line that begins with '>', followed by a label. Subsequent lines contain the DNA sequence. The label for each string in Rosalind's implementation will follow the format \"Rosalind_xxxx\", where \"xxxx\" is a four-digit code between 0000 and 9999.\n",
    "\n",
    "### Input:\n",
    "- Up to 10 DNA strings in FASTA format, with each string having a maximum length of 1,000 base pairs.\n",
    "\n",
    "### Output:\n",
    "- The ID of the DNA string with the highest GC-content, followed by the GC-content of that string. The GC-content should be reported with a default error tolerance of 0.001 in decimal values."
   ]
  },
  {
   "cell_type": "code",
   "execution_count": 58,
   "metadata": {},
   "outputs": [
    {
     "name": "stdout",
     "output_type": "stream",
     "text": [
      "Rosalind_3421\n",
      "51.260504\n"
     ]
    }
   ],
   "source": [
    "import sys\n",
    "class FastAreader :\n",
    "   \n",
    "    def __init__ (self, fname=None):\n",
    "        '''contructor: saves attribute fname '''\n",
    "        self.fname = fname\n",
    "            \n",
    "    def doOpen (self):\n",
    "        ''' Handle file opens, allowing STDIN.'''\n",
    "        if self.fname is None:\n",
    "            return sys.stdin\n",
    "        else:\n",
    "            return open(self.fname)\n",
    "        \n",
    "    def readFasta (self):\n",
    "        ''' Read an entire FastA record and return the sequence header/sequence'''\n",
    "        header = ''\n",
    "        sequence = ''\n",
    "        \n",
    "        with self.doOpen() as fileH:\n",
    "            \n",
    "            header = ''\n",
    "            sequence = ''\n",
    "            \n",
    "            # skip to first fasta header\n",
    "            line = fileH.readline()\n",
    "            while not line.startswith('>') :\n",
    "                line = fileH.readline()\n",
    "            header = line[1:].rstrip()\n",
    "\n",
    "            for line in fileH:\n",
    "                if line.startswith ('>'):\n",
    "                    yield header,sequence\n",
    "                    header = line[1:].rstrip()\n",
    "                    sequence = ''\n",
    "                else :\n",
    "                    sequence += ''.join(line.rstrip().split()).upper()\n",
    "\n",
    "        yield header,sequence\n",
    "    \n",
    "def countNuc(sequence, nuc):\n",
    "    count = 0\n",
    "    for char in sequence:\n",
    "        if not char:\n",
    "            break\n",
    "        if char == nuc:\n",
    "            count += 1\n",
    "    return count \n",
    "\n",
    "def find_gc_content(sequence):\n",
    "    gCount = 0\n",
    "    cCount = 0\n",
    "    nucCount = len(sequence)\n",
    "    gCount = countNuc(sequence, \"G\")\n",
    "    cCount = countNuc(sequence, \"C\")\n",
    "    gC_content = ((gCount + cCount) / nucCount)*100\n",
    "    return gC_content\n",
    "\n",
    "reader = FastAreader(\"rosalind_data/rosalind_gc.txt\")\n",
    "highest_header  = None\n",
    "highest_content = 0\n",
    "\n",
    "for header, sequence in reader.readFasta():\n",
    "    seq_GC = find_gc_content(sequence)\n",
    "    if highest_header == None or seq_GC > highest_content:\n",
    "        highest_header = header\n",
    "        highest_content = seq_GC\n",
    "    else:\n",
    "        continue\n",
    "    \n",
    "print(f\"{highest_header}\\n{highest_content:.6f}\")\n",
    "\n"
   ]
  },
  {
   "cell_type": "markdown",
   "metadata": {},
   "source": [
    "### Problem: Counting Point Mutations (Hamming Distance)\n",
    "\n",
    "The Hamming distance between two strings `s` and `t` is a measure of how many corresponding symbols differ between the two strings. For two strings of equal length, the Hamming distance is the count of positions at which the symbols in the two strings differ.\n",
    "\n",
    "For example, if the Hamming distance between two strings is 7, this means there are 7 positions where the symbols in the strings are different. Mismatched symbols are often highlighted to show where the differences occur.\n",
    "\n",
    "### Input:\n",
    "- Two DNA strings `s` and `t`, which have equal length and do not exceed 1,000 base pairs.\n",
    "\n",
    "### Output:\n",
    "- The Hamming distance `dH(s, t)`, which is the count of positions where the symbols in `s` and `t` differ."
   ]
  },
  {
   "cell_type": "code",
   "execution_count": 62,
   "metadata": {},
   "outputs": [
    {
     "name": "stdout",
     "output_type": "stream",
     "text": [
      "504\n"
     ]
    }
   ],
   "source": [
    "def countPointMuts(file_path):\n",
    "    with open(file_path, \"r\") as file:\n",
    "        seq1 = file.readline()\n",
    "        seq2 = file.readline()\n",
    "        \n",
    "        hammingCount = 0\n",
    "        for i in range(len(seq1)):\n",
    "            seq1nuc = seq1[i]\n",
    "            seq2nuc = seq2[i]\n",
    "            if seq1nuc != seq2nuc:\n",
    "                hammingCount += 1\n",
    "            else:\n",
    "                continue\n",
    "    return hammingCount\n",
    "\n",
    "file_path = \"rosalind_data/rosalind_hamm.txt\"\n",
    "result = countPointMuts(file_path)\n",
    "print(result)"
   ]
  },
  {
   "cell_type": "code",
   "execution_count": 64,
   "metadata": {},
   "outputs": [
    {
     "name": "stdout",
     "output_type": "stream",
     "text": [
      "MSSPVVIVLCGRVYTPPRTRRNSHDGERSPPSSSRAVLPSTDVFLRTPKRSPRKPMNCSQVPNFYTQTIVVCRALLGTHSLGHGNFSEFMRVSLAHPREPSSHSDHIDRGASGNGAGISRKSRCDYNRFETVKRRSGEAHNTKIRHYKLHSFMTTQIKERVLTTVETGQTRCMPLSTGRHLSLYCPQPSCPSCIRLLTSSCLTVWAEPLYSCRQFSSVVSGKLASPVWIIILRRYRPSDASLTLATEYICDRSIPESEKINCVPIPSLKMRLCSAGRSSCIAYIFQHFRLLIKHTPTSRRLLLHRAAAINDNASPSPGGRCWLSTRSKRDTLIAAPYARGLSRTHPAAYVSPKRGSVHAGCSRSSPRHGKVCRPRTCARDGDLSSHLKGSRVTRNYSDKTGCGSYARGEDTLCDIADSGLVGLTTTYRGLTLIGSMIKRHSRFKRTCFYDPQPANWTHLAVAGVFYGSCICGVHISAFIPSPHNVFFLSSTFNYQELGTLRVWVMLIISPARIVGDAPYLANLFPTQAKIPIVSCETNLLQPAAFRNCDATRAGLFDIAESLLGSLSQCSMIPIMCRKHLPTRWQPTVYTEQESHVRTGFQLRPLVGHIRLRYLDTPSAHNSGECNTQSLRGTFAGETLRHYVVALPGRAPQVSTLVLKGIHQAIGDRDQTRLRISPEIPWDFQHVNTLRSLKHRWRSVTASLLTFPGVFELQYDNPAPSPGLVCKDKDHLQLRRLNPPARDDAGVKRFTRNPKMARPNISGSDCLITNPPARACAFTILLVHFTRRVMVLAFSIREPIRQQSGHWRSAASSSGGQRLIVEVGIVAHSARAFVRRPPLRFGSTETHKYSFRFVFAAGQRSSRSNLNTTVHSKIWAEKAGRRVGKRTLSPYREGKGEFHWNVRRARRSRSTRRLLGDLWPLHQAALRVRPYHIDVASCLFRPKVPNYPHGSSAPGTSALFRLRGVWISGGWLVCRPVLHAWGKLPIGLVGGLRPKKLNLRMTWSFMWTAIVYVSAYRLGLFSSLITSACLSEEVLTHLNEPHREVFPCGYSAERSFNPALFRSAGVFIQYLRWARAYHSRSPTLISSSLLEPILCPHAASRPWLRGASSTTTLLDVNPESLYLGSFHTRVRPSCYQRHYPRSGLCTHLHQAMYLTSLLSATYFSAVRKYLPSVRALKSAALLWLPLIGLSNQHTRLQADKPREPTRLDTPLHIQLGDLYRRGPTDTSRAYPRAEPQRPWPNPTLKQRIGPCRNLGLKYLNRALYSRMVAGRDRLLMYDRGLRGVQCTISQSAHRCGATTGATLTVFSSSVRWNWIIPDYRVQIRLPPSRLLIYKVSICPSPPAMSLSSIRCLDSRYDVSTAGLLLCKVGPGKCFCRCSVIAGSIKMALTPSAVLFQGYLDLYHIRGSDPSRLTLMGSGGCPIITIRYGKQLVVARVLISVFRSAEVSILRYRGGWQLDTLVNTKENPSRVITRTRGVFRTCNDPLPRFREPYTLWKPVRLPHIFLIKSQRIHPIGTSPLILQKRGSWCKHPRYDGLMLGKGRRLLPKPSYFHRFRYKGSLKSDSHPELTPTVKLDLNAPKSHFIFYEFMTYIYGYTQCRRSVGLEATSLYTHYARSEKVDGRNIVQCICIKLFDCIVAVASSLVRPLMPRGIPPYYPPWGTSYLRERCGCTRTKLINDLLSAMTSIPKTLVSRLDQDKAVYAQLLQRVCDTSKPKGPVCSVFHASPAYKSVATQSTDDSYIVCAPAPTNTNDNRTGPYPLAVKRRITTSSQHLYRHELIRYSCHDRSAQNTSHSKCQYKRNSRRLDRCLRDLMNSVVAVPMYNAIEPRVIAHCCITPHRKKLRRNHLRLYAITPSSGHFCFPGHLCHQIKHCEVPGVTAICQLVSSTTEPSGLCGHAGRWLFTSYYTTVTQRLMLPPRIICEKVIAKRGKLLPTSAGSRRQLKREGLHTTKTAVIHENIWLTRTPNNNPYYELIYFELLCYCQGKLLSGVLLSTSSINALVPRTFNCSIITRHRGPRRLCHNLLAGSSRGGSRPSVPGGWTEIMAGAAYSRIEHMASRAIPPASIGQVPCTMGSRESMRFVGTYVNQGSRKAPPGQFRCLTRPRWVSSDRDRQFPHFSAMNEEWELLNITSHMRLRQCLLIGNIRAFSVHPGAPDNPLLSPSTPRALGLSGTPEGIRSGYGTSVGSIATFILMLGRRHYPVLFNCWLGVEPTRRVKIVRAKPAVFCITRAIIIPNHSLATDGDPPEMVIKILTLTKNNESAPCIIYTDITAQLRSIYCATADLGHIRARFCVMCLMRSWYFGALGNATHIWLGIKAAVDYRCLERTRSLKLFKELGNLHLFSLRVSILDVSLAILHQPGAVRRIPIEKIGKRRHVDTGAISLSVWFMLIIYTRKRSLGESQTAMSVTSEHWIRFKRLLNHFYDCLGPACHYTTISPRSVAGPSAPTPGFYAGRWTQLRTLAFRSLPGALFLLSLLQKSRTSTQEDSLTITTSQVTVKRAVFVRICLVRRLPIKVRHRQRVRHAEMKTSPLVKADLRLNEIRGLAKATSARSPPASTLVWNQMSSCGCTCSCRLSMLARDITLSRAQTFICTLERICRIGRCFGCESISMTVEDNSCVQKSVHIRDLTVHPADTPDLFQEHAREYKPRLSSAVRSKVPPNYSSTPMLELGCVPFDSHVRGTTYRSLRTYRCWRCFHQIHVSRAPAHQSGCTPFCQCIESTFVRIATYLDTMSGLQYDTNASMLRWRNETVVSSDSETGREEVIALTVVRAPLRSRGDLRSNAKRPGDTKERPPNSEVSMQTWIGLRGREPSRDACTRESTVGGKGPYPVCSLILAAKRRSVRLSLLELRHDPNIRVRLRDSWENRDVRHTLPAYQGVLHFLKPTNWVENSTPSRQRCDIENLACVRSALVRTPIVIPHPRGMWYWVRFRPNQYEQQLFRGTAFIRTSGDIMPENASRLSAEGYFHGRLSPNLKAHRLIDYSKVVPALADCTKGDTFKTWSPQADQLAPLQCYFGSFQNAMATSLRNPVHLRYESIGMIIQAVHLKHPNHACENSQVRSPLKKPIKKTCEPRRARLSGSGIGQGWTSQLPRQKDKIRSSLTRKLSLNRNYLRGITTSVCSGLSVRTNQELWCSSLWSTSVGAGILHVIGLLLHPSEPLSAARYEWVVFDGTSNQAAANVSNQGVRGHPLGRVATCERTLSQLRGQLALRLVYRWAGAPSAVQPVVLQKCDRPMCQCDGSVAGSSLFRTVTMTILGPTCFTFFSCTSIGITFIIQAQL\n"
     ]
    }
   ],
   "source": [
    "def RNA_to_AA(rna_seq):\n",
    "    rnaCodonTable = {\n",
    "        # RNA codon table\n",
    "        # U\n",
    "        'UUU': 'F', 'UCU': 'S', 'UAU': 'Y', 'UGU': 'C',  # UxU\n",
    "        'UUC': 'F', 'UCC': 'S', 'UAC': 'Y', 'UGC': 'C',  # UxC\n",
    "        'UUA': 'L', 'UCA': 'S', 'UAA': '-', 'UGA': '-',  # UxA\n",
    "        'UUG': 'L', 'UCG': 'S', 'UAG': '-', 'UGG': 'W',  # UxG\n",
    "        # C\n",
    "        'CUU': 'L', 'CCU': 'P', 'CAU': 'H', 'CGU': 'R',  # CxU\n",
    "        'CUC': 'L', 'CCC': 'P', 'CAC': 'H', 'CGC': 'R',  # CxC\n",
    "        'CUA': 'L', 'CCA': 'P', 'CAA': 'Q', 'CGA': 'R',  # CxA\n",
    "        'CUG': 'L', 'CCG': 'P', 'CAG': 'Q', 'CGG': 'R',  # CxG\n",
    "        # A\n",
    "        'AUU': 'I', 'ACU': 'T', 'AAU': 'N', 'AGU': 'S',  # AxU\n",
    "        'AUC': 'I', 'ACC': 'T', 'AAC': 'N', 'AGC': 'S',  # AxC\n",
    "        'AUA': 'I', 'ACA': 'T', 'AAA': 'K', 'AGA': 'R',  # AxA\n",
    "        'AUG': 'M', 'ACG': 'T', 'AAG': 'K', 'AGG': 'R',  # AxG\n",
    "        # G\n",
    "        'GUU': 'V', 'GCU': 'A', 'GAU': 'D', 'GGU': 'G',  # GxU\n",
    "        'GUC': 'V', 'GCC': 'A', 'GAC': 'D', 'GGC': 'G',  # GxC\n",
    "        'GUA': 'V', 'GCA': 'A', 'GAA': 'E', 'GGA': 'G',  # GxA\n",
    "        'GUG': 'V', 'GCG': 'A', 'GAG': 'E', 'GGG': 'G'  # GxG\n",
    "    }\n",
    "\n",
    "    aa_seq = \"\"\n",
    "    for i in range(0, len(rna_seq) - 2, 3):\n",
    "        codon = rna_seq[i:i+3]\n",
    "        if codon in rnaCodonTable:\n",
    "            amino_acid = rnaCodonTable[codon]\n",
    "            if amino_acid == '-':  # Stop translating at termination codon\n",
    "                break\n",
    "            aa_seq += amino_acid\n",
    "    return aa_seq\n",
    "\n",
    "def read_rna_from_file(file_path):\n",
    "    with open(file_path, \"r\") as file:\n",
    "        rna_seq = file.read().strip().replace(\"\\n\", \"\")\n",
    "    return rna_seq\n",
    "\n",
    "file_path = \"rosalind_data/rosalind_prot.txt\"\n",
    "rna_seq = read_rna_from_file(file_path)\n",
    "result = RNA_to_AA(rna_seq)\n",
    "print(result)\n"
   ]
  },
  {
   "cell_type": "markdown",
   "metadata": {},
   "source": [
    "### Problem: Finding Motifs in a DNA Sequence\n",
    "\n",
    "Given two DNA strings, `s` and `t`, the task is to find all positions where `t` appears as a substring within `s`. A substring is a sequence of characters that appears in a continuous sequence within another string.\n",
    "\n",
    "For example, consider the string `\"AUGCUUCAGAAAGGUCUUACG\"`. The positions of all occurrences of the character `'U'` in this string are 2, 5, 6, 15, 17, and 18. Each character in a string has a position, starting from the left and including itself. For example, the substring starting at position 2 and ending at position 5 is `\"UGCU\"`.\n",
    "\n",
    "The goal is to identify all starting positions in `s` where the string `t` appears as a contiguous substring. If `t` occurs multiple times within `s`, all of these starting positions should be returned.\n",
    "\n",
    "### Input:\n",
    "- Two DNA strings `s` and `t`, each with a maximum length of 1,000 base pairs.\n",
    "\n",
    "### Output:\n",
    "- A list of all positions in `s` where `t` begins as a substring."
   ]
  },
  {
   "cell_type": "code",
   "execution_count": 93,
   "metadata": {},
   "outputs": [
    {
     "name": "stdout",
     "output_type": "stream",
     "text": [
      "23 38 45 66 110 286 328 359 366 404 411 489 535 589 606 622 629 714 734 758\n"
     ]
    }
   ],
   "source": [
    "def findMotifs(file_path):\n",
    "    with open(file_path, \"r\") as file:\n",
    "        sequence = file.readline()\n",
    "        motif = file.readline().strip()\n",
    "        index = 0 \n",
    "        result = \"\"\n",
    "        while index != -1:\n",
    "            index = sequence.find(motif, index)\n",
    "            if index != -1:\n",
    "                index +=1\n",
    "                # print(index, end=\" \")\n",
    "                result += str(index) + \" \"\n",
    "    return result[:-1]\n",
    "       \n",
    "            \n",
    "\n",
    "file_path = \"rosalind_data/rosalind_subs.txt\"\n",
    "result = findMotifs(file_path)\n",
    "print(result)"
   ]
  },
  {
   "cell_type": "code",
   "execution_count": 7,
   "metadata": {},
   "outputs": [
    {
     "name": "stdout",
     "output_type": "stream",
     "text": [
      "ATCCAAAATCATTGGATGCTGACTGATTGGGGAGTTGATCTTACACCGCGAAGCGTTCACCTCATTCGCGGCTCTATTCAGGCACAGGAAACTGGAGTCCACACTTTCACGTCGGGATCGGATCCCTCATCACCACCGTAGCGTCCCGTATGGGCGGAGATAAC\n"
     ]
    }
   ],
   "source": [
    "def readFasta(file_path):\n",
    "    ''' Read a FastA file and return a dictionary with headers as keys and sequences as values. '''\n",
    "    fasta_dict = {}\n",
    "    header = ''\n",
    "    sequence = ''\n",
    "    \n",
    "    with open(file_path, \"r\") as fileH:\n",
    "        for line in fileH:\n",
    "            if line.startswith('>'):\n",
    "                # Save the previous header and sequence\n",
    "                if header:\n",
    "                    fasta_dict[header] = sequence\n",
    "                # Update header and reset sequence\n",
    "                header = line[1:].rstrip()\n",
    "                sequence = ''\n",
    "            else:\n",
    "                # Append to the current sequence\n",
    "                sequence += ''.join(line.rstrip().split()).upper()\n",
    "                \n",
    "        # Save the last header and sequence\n",
    "        if header:\n",
    "            fasta_dict[header] = sequence\n",
    "\n",
    "    return fasta_dict\n",
    "\n",
    "def findSharedMotifs(fasta_dict):\n",
    "    ''' Find the longest common substring in all sequences of the FASTA dictionary. '''\n",
    "    sequences = list(fasta_dict.values())\n",
    "    \n",
    "    if not sequences:\n",
    "        return \"\"\n",
    "    \n",
    "    def is_common_substring(substring, sequences):\n",
    "        ''' Check if the substring is present in all sequences. '''\n",
    "        return all(substring in seq for seq in sequences)\n",
    "    \n",
    "    # Get the shortest sequence to minimize search space\n",
    "    shortest_seq = min(sequences, key=len)\n",
    "    longest_motif = \"\"\n",
    "\n",
    "    # Generate all possible substrings of the shortest sequence and find the longest common one\n",
    "    for length in range(len(shortest_seq), 0, -1):  # Decrease length from longest to shortest\n",
    "        for start in range(len(shortest_seq) - length + 1):\n",
    "            substring = shortest_seq[start:start + length]\n",
    "            if is_common_substring(substring, sequences):\n",
    "                longest_motif = substring\n",
    "                break\n",
    "        if longest_motif:\n",
    "            break\n",
    "\n",
    "    return longest_motif\n",
    "\n",
    "\n",
    "# Example usage:\n",
    "file_path = \"rosalind_data/rosalind_lcsm.txt\"\n",
    "fasta_dict = readFasta(file_path)\n",
    "result = findSharedMotifs(fasta_dict)\n",
    "print(result)\n"
   ]
  }
 ],
 "metadata": {
  "kernelspec": {
   "display_name": "Python 3",
   "language": "python",
   "name": "python3"
  },
  "language_info": {
   "codemirror_mode": {
    "name": "ipython",
    "version": 3
   },
   "file_extension": ".py",
   "mimetype": "text/x-python",
   "name": "python",
   "nbconvert_exporter": "python",
   "pygments_lexer": "ipython3",
   "version": "3.10.7"
  }
 },
 "nbformat": 4,
 "nbformat_minor": 2
}
